{
 "cells": [
  {
   "cell_type": "code",
   "execution_count": 1,
   "metadata": {},
   "outputs": [],
   "source": [
    "from tensorflow.keras.datasets import imdb"
   ]
  },
  {
   "cell_type": "code",
   "execution_count": 2,
   "metadata": {},
   "outputs": [],
   "source": [
    "(x_train,y_train),(x_test,y_test) = imdb.load_data(num_words=10000,maxlen=200)"
   ]
  },
  {
   "cell_type": "code",
   "execution_count": 3,
   "metadata": {},
   "outputs": [],
   "source": [
    "vocab = imdb.get_word_index()"
   ]
  },
  {
   "cell_type": "code",
   "execution_count": 4,
   "metadata": {},
   "outputs": [],
   "source": [
    "inv_vocab = dict(zip(vocab.values(),vocab.keys()))"
   ]
  },
  {
   "cell_type": "code",
   "execution_count": 5,
   "metadata": {},
   "outputs": [],
   "source": [
    "line = [inv_vocab[index-3] for index in x_train[0] if index >=3]"
   ]
  },
  {
   "cell_type": "code",
   "execution_count": 6,
   "metadata": {},
   "outputs": [
    {
     "data": {
      "text/plain": [
       "\u001b[1;31mDocstring:\u001b[0m D.get(k[,d]) -> D[k] if k in D, else d.  d defaults to None.\n",
       "\u001b[1;31mType:\u001b[0m      builtin_function_or_method\n"
      ]
     },
     "metadata": {},
     "output_type": "display_data"
    }
   ],
   "source": [
    "inv_vocab.get?"
   ]
  },
  {
   "cell_type": "code",
   "execution_count": 7,
   "metadata": {},
   "outputs": [
    {
     "data": {
      "text/plain": [
       "\"big hair big boobs bad music and a giant safety pin these are the words to best describe this terrible movie i love cheesy horror movies and i've seen hundreds but this had got to be on of the worst ever made the plot is paper thin and ridiculous the acting is an abomination the script is completely laughable the best is the end showdown with the cop and how he worked out who the killer is it's just so damn terribly written the clothes are sickening and funny in equal the hair is big lots of boobs men wear those cut shirts that show off their sickening that men actually wore them and the music is just trash that plays over and over again in almost every scene there is trashy music boobs and taking away bodies and the gym still doesn't close for all joking aside this is a truly bad film whose only charm is to look back on the disaster that was the 80's and have a good old laugh at how bad everything was back then\""
      ]
     },
     "execution_count": 7,
     "metadata": {},
     "output_type": "execute_result"
    }
   ],
   "source": [
    "\" \".join(line)"
   ]
  },
  {
   "cell_type": "code",
   "execution_count": 8,
   "metadata": {},
   "outputs": [],
   "source": [
    "from tensorflow.keras.models import Model\n",
    "from tensorflow.keras.layers import Input,Dense,Embedding,SimpleRNN\n",
    "\n",
    "from tensorflow.keras.preprocessing import sequence\n",
    "from tensorflow.keras.utils import to_categorical\n",
    "\n",
    "import matplotlib.pyplot as plt\n",
    "import numpy as np"
   ]
  },
  {
   "cell_type": "code",
   "execution_count": 13,
   "metadata": {},
   "outputs": [
    {
     "data": {
      "text/plain": [
       "(189, 104)"
      ]
     },
     "execution_count": 13,
     "metadata": {},
     "output_type": "execute_result"
    }
   ],
   "source": [
    "len(x_train[0]),len(x_test[0])"
   ]
  },
  {
   "cell_type": "code",
   "execution_count": 14,
   "metadata": {},
   "outputs": [],
   "source": [
    "x_train_pad = sequence.pad_sequences(x_train,maxlen=200)\n",
    "x_test_pad = sequence.pad_sequences(x_test,maxlen=200)"
   ]
  },
  {
   "cell_type": "code",
   "execution_count": 20,
   "metadata": {},
   "outputs": [],
   "source": [
    "y_train_hot = to_categorical(y_train,num_classes=2)\n",
    "y_test_hot = to_categorical(y_test,num_classes=2)"
   ]
  },
  {
   "cell_type": "code",
   "execution_count": 23,
   "metadata": {},
   "outputs": [],
   "source": [
    "in_layer_1 = Input(shape=(200,))\n",
    "embedding_1 = Embedding(input_dim=10000,output_dim=100)(in_layer_1)\n",
    "rnn_1 = SimpleRNN(units=60)(embedding_1)\n",
    "out_1 = Dense(1,activation=\"sigmoid\")(rnn_1)"
   ]
  },
  {
   "cell_type": "code",
   "execution_count": 24,
   "metadata": {},
   "outputs": [],
   "source": [
    "model_1 = Model(inputs = in_layer_1 , outputs = out_1)"
   ]
  },
  {
   "cell_type": "code",
   "execution_count": 25,
   "metadata": {},
   "outputs": [
    {
     "name": "stdout",
     "output_type": "stream",
     "text": [
      "Model: \"model\"\n",
      "_________________________________________________________________\n",
      "Layer (type)                 Output Shape              Param #   \n",
      "=================================================================\n",
      "input_3 (InputLayer)         [(None, 200)]             0         \n",
      "_________________________________________________________________\n",
      "embedding_1 (Embedding)      (None, 200, 100)          1000000   \n",
      "_________________________________________________________________\n",
      "simple_rnn (SimpleRNN)       (None, 60)                9660      \n",
      "_________________________________________________________________\n",
      "dense (Dense)                (None, 1)                 61        \n",
      "=================================================================\n",
      "Total params: 1,009,721\n",
      "Trainable params: 1,009,721\n",
      "Non-trainable params: 0\n",
      "_________________________________________________________________\n"
     ]
    }
   ],
   "source": [
    "model_1.summary()"
   ]
  },
  {
   "cell_type": "code",
   "execution_count": 26,
   "metadata": {},
   "outputs": [],
   "source": [
    "model_1.compile(optimizer=\"rmsprop\" , loss = \"binary_crossentropy\" , metrics=[\"accuracy\"])"
   ]
  },
  {
   "cell_type": "code",
   "execution_count": 27,
   "metadata": {},
   "outputs": [
    {
     "name": "stdout",
     "output_type": "stream",
     "text": [
      "Train on 25000 samples\n",
      "Epoch 1/10\n",
      "10000/25000 [===========>..................] - ETA: 43s - loss: 0.6962 - accuracy: 0.5081Epoch 2/10\n",
      "10000/25000 [===========>..................] - ETA: 30s - loss: 0.6771 - accuracy: 0.5811Epoch 3/10\n",
      "10000/25000 [===========>..................] - ETA: 27s - loss: 0.6534 - accuracy: 0.6404Epoch 4/10\n",
      "10000/25000 [===========>..................] - ETA: 26s - loss: 0.5982 - accuracy: 0.7045Epoch 5/10\n",
      "10000/25000 [===========>..................] - ETA: 24s - loss: 0.5454 - accuracy: 0.7501Epoch 6/10\n",
      "10000/25000 [===========>..................] - ETA: 24s - loss: 0.4465 - accuracy: 0.8206Epoch 7/10\n",
      "10000/25000 [===========>..................] - ETA: 24s - loss: 0.4046 - accuracy: 0.8266Epoch 8/10\n",
      "10000/25000 [===========>..................] - ETA: 24s - loss: 0.3633 - accuracy: 0.8533Epoch 9/10\n",
      "10000/25000 [===========>..................] - ETA: 24s - loss: 0.3626 - accuracy: 0.8460Epoch 10/10\n",
      "10000/25000 [===========>..................] - ETA: 25s - loss: 0.3036 - accuracy: 0.8798"
     ]
    },
    {
     "data": {
      "text/plain": [
       "<tensorflow.python.keras.callbacks.History at 0x1f69b4a8a20>"
      ]
     },
     "execution_count": 27,
     "metadata": {},
     "output_type": "execute_result"
    }
   ],
   "source": [
    "model_1.fit(x_train_pad,y_train,batch_size=1000,epochs=10,steps_per_epoch=10)"
   ]
  },
  {
   "cell_type": "code",
   "execution_count": 29,
   "metadata": {},
   "outputs": [
    {
     "data": {
      "text/plain": [
       "[0.5317014339723887, 0.7296192]"
      ]
     },
     "execution_count": 29,
     "metadata": {},
     "output_type": "execute_result"
    }
   ],
   "source": [
    "model_1.evaluate(x_test_pad,y_test,verbose=0)"
   ]
  },
  {
   "cell_type": "code",
   "execution_count": 31,
   "metadata": {},
   "outputs": [],
   "source": [
    "in_layer_2 = Input(shape=(200,))\n",
    "embedding_2 = Embedding(input_dim=10000,output_dim=100)(in_layer_2)\n",
    "rnn_2 = SimpleRNN(units=60)(embedding_2)\n",
    "out_2 = Dense(2,activation=\"softmax\")(rnn_2)"
   ]
  },
  {
   "cell_type": "code",
   "execution_count": 32,
   "metadata": {},
   "outputs": [],
   "source": [
    "model_2 = Model(inputs = in_layer_2 , outputs = out_2)"
   ]
  },
  {
   "cell_type": "code",
   "execution_count": 33,
   "metadata": {},
   "outputs": [
    {
     "name": "stdout",
     "output_type": "stream",
     "text": [
      "Model: \"model_1\"\n",
      "_________________________________________________________________\n",
      "Layer (type)                 Output Shape              Param #   \n",
      "=================================================================\n",
      "input_5 (InputLayer)         [(None, 200)]             0         \n",
      "_________________________________________________________________\n",
      "embedding_3 (Embedding)      (None, 200, 100)          1000000   \n",
      "_________________________________________________________________\n",
      "simple_rnn_2 (SimpleRNN)     (None, 60)                9660      \n",
      "_________________________________________________________________\n",
      "dense_2 (Dense)              (None, 2)                 122       \n",
      "=================================================================\n",
      "Total params: 1,009,782\n",
      "Trainable params: 1,009,782\n",
      "Non-trainable params: 0\n",
      "_________________________________________________________________\n"
     ]
    }
   ],
   "source": [
    "model_2.summary()"
   ]
  },
  {
   "cell_type": "code",
   "execution_count": 34,
   "metadata": {},
   "outputs": [],
   "source": [
    "model_2.compile(optimizer=\"rmsprop\" , loss = \"binary_crossentropy\" , metrics=[\"accuracy\"])"
   ]
  },
  {
   "cell_type": "code",
   "execution_count": 35,
   "metadata": {},
   "outputs": [
    {
     "name": "stdout",
     "output_type": "stream",
     "text": [
      "Train on 25000 samples\n",
      "Epoch 1/10\n",
      "10000/25000 [===========>..................] - ETA: 33s - loss: 0.6926 - accuracy: 0.5273Epoch 2/10\n",
      "10000/25000 [===========>..................] - ETA: 24s - loss: 0.6644 - accuracy: 0.5966Epoch 3/10\n",
      "10000/25000 [===========>..................] - ETA: 25s - loss: 0.6184 - accuracy: 0.6862Epoch 4/10\n",
      "10000/25000 [===========>..................] - ETA: 25s - loss: 0.5156 - accuracy: 0.7598Epoch 5/10\n",
      "10000/25000 [===========>..................] - ETA: 24s - loss: 0.4766 - accuracy: 0.7901Epoch 6/10\n",
      "10000/25000 [===========>..................] - ETA: 24s - loss: 0.3395 - accuracy: 0.8738Epoch 7/10\n",
      "10000/25000 [===========>..................] - ETA: 26s - loss: 0.3034 - accuracy: 0.8786Epoch 8/10\n",
      "10000/25000 [===========>..................] - ETA: 24s - loss: 0.2798 - accuracy: 0.8966Epoch 9/10\n",
      "10000/25000 [===========>..................] - ETA: 24s - loss: 0.2111 - accuracy: 0.9216Epoch 10/10\n",
      "10000/25000 [===========>..................] - ETA: 24s - loss: 0.1878 - accuracy: 0.9296"
     ]
    },
    {
     "data": {
      "text/plain": [
       "<tensorflow.python.keras.callbacks.History at 0x1f6a5346f28>"
      ]
     },
     "execution_count": 35,
     "metadata": {},
     "output_type": "execute_result"
    }
   ],
   "source": [
    "model_2.fit(x_train_pad,y_train_hot,batch_size=1000,epochs=10,steps_per_epoch=10)"
   ]
  },
  {
   "cell_type": "code",
   "execution_count": 36,
   "metadata": {},
   "outputs": [
    {
     "data": {
      "text/plain": [
       "[0.5078099097189256, 0.7574751]"
      ]
     },
     "execution_count": 36,
     "metadata": {},
     "output_type": "execute_result"
    }
   ],
   "source": [
    "model_2.evaluate(x_test_pad,y_test_hot,verbose=0)"
   ]
  },
  {
   "cell_type": "code",
   "execution_count": null,
   "metadata": {},
   "outputs": [],
   "source": []
  }
 ],
 "metadata": {
  "kernelspec": {
   "display_name": "Python 3",
   "language": "python",
   "name": "python3"
  },
  "language_info": {
   "codemirror_mode": {
    "name": "ipython",
    "version": 3
   },
   "file_extension": ".py",
   "mimetype": "text/x-python",
   "name": "python",
   "nbconvert_exporter": "python",
   "pygments_lexer": "ipython3",
   "version": "3.6.10"
  }
 },
 "nbformat": 4,
 "nbformat_minor": 4
}
